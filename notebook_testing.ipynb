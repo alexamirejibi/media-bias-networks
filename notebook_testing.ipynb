{
 "cells": [
  {
   "cell_type": "code",
   "execution_count": 1,
   "id": "19762197",
   "metadata": {},
   "outputs": [],
   "source": [
    "from framework import Framework"
   ]
  },
  {
   "cell_type": "code",
   "execution_count": 2,
   "id": "e15c00f7",
   "metadata": {},
   "outputs": [
    {
     "name": "stdout",
     "output_type": "stream",
     "text": [
      "experimenting with:\n",
      " ['louvain']\n"
     ]
    }
   ],
   "source": [
    "data_dir = \"daily_cluster_data/daily_cluster_matrices_min_6\"\n",
    "\n",
    "fw = Framework(data_dir,verbose=1)"
   ]
  },
  {
   "cell_type": "code",
   "execution_count": 4,
   "id": "7398ed80",
   "metadata": {},
   "outputs": [
    {
     "name": "stdout",
     "output_type": "stream",
     "text": [
      "creating matrices for sample_0\n",
      "creating adjacency matrix with cooccurrence 0.04 seconds\n",
      "creating adjacency matrix with jaccard 17.08 seconds\n",
      "creating adjacency matrix with dice 16.89 seconds\n",
      "creating adjacency matrix with cosine_nmf 0.36 seconds\n",
      "creating adjacency matrix with cosine_svd 0.11 seconds\n",
      "creating adjacency matrix with correlation 0.01 seconds\n",
      "creating adjacency matrix with pmi 7.98 seconds\n",
      "creating adjacency matrix with lift 23.71 seconds\n",
      "creating adjacency matrix with tfidf Error with tfidf: '1tv'\n",
      "creating adjacency matrix with conditional 23.72 seconds\n",
      "creating adjacency matrix with symmetric_conditional 23.47 seconds\n"
     ]
    },
    {
     "ename": "AttributeError",
     "evalue": "'DataFrame' object has no attribute 'dtype'",
     "output_type": "error",
     "traceback": [
      "\u001b[31m---------------------------------------------------------------------------\u001b[39m",
      "\u001b[31mAttributeError\u001b[39m                            Traceback (most recent call last)",
      "\u001b[32m~\\AppData\\Local\\Temp\\ipykernel_22872\\2419708763.py\u001b[39m in \u001b[36m?\u001b[39m\u001b[34m()\u001b[39m\n\u001b[32m----> \u001b[39m\u001b[32m1\u001b[39m fw.run_experiment(\u001b[32m1\u001b[39m,\u001b[32m30\u001b[39m)\n",
      "\u001b[32mc:\\Users\\maxtv\\Documents\\Studie\\NWSC\\media-bias-networks\\framework.py\u001b[39m in \u001b[36m?\u001b[39m\u001b[34m(self, n_samples, sample_size)\u001b[39m\n\u001b[32m     41\u001b[39m         \u001b[33m\"Starting point for the experiment\"\u001b[39m\n\u001b[32m     42\u001b[39m         samples = self.load_samples(n_samples,sample_size)\n\u001b[32m     43\u001b[39m         \u001b[38;5;28;01mfor\u001b[39;00m s, sample \u001b[38;5;28;01min\u001b[39;00m enumerate(samples):\n\u001b[32m     44\u001b[39m             sample_ID = f\"sample_{s}\"\n\u001b[32m---> \u001b[39m\u001b[32m45\u001b[39m             self.create_adj_matrices(sample_ID,sample)\n",
      "\u001b[32mc:\\Users\\maxtv\\Documents\\Studie\\NWSC\\media-bias-networks\\framework.py\u001b[39m in \u001b[36m?\u001b[39m\u001b[34m(self, sample_ID, sample)\u001b[39m\n\u001b[32m     52\u001b[39m         network_models.set_data(sample)\n\u001b[32m     53\u001b[39m         adj_matrices = network_models.all_modeling_methods()\n\u001b[32m     54\u001b[39m \n\u001b[32m     55\u001b[39m         \u001b[38;5;28;01mfor\u001b[39;00m network_method, adj_matrix \u001b[38;5;28;01min\u001b[39;00m adj_matrices.items():\n\u001b[32m---> \u001b[39m\u001b[32m56\u001b[39m             self.comm_detection(sample_ID,adj_matrix,network_method)\n",
      "\u001b[32mc:\\Users\\maxtv\\Documents\\Studie\\NWSC\\media-bias-networks\\framework.py\u001b[39m in \u001b[36m?\u001b[39m\u001b[34m(self, sample_ID, adj_matrix, modeling_method)\u001b[39m\n\u001b[32m     67\u001b[39m             hp_sets = self.get_hyperparameters(comm_method_name)\n\u001b[32m     68\u001b[39m             \u001b[38;5;28;01mfor\u001b[39;00m hpi,hp \u001b[38;5;28;01min\u001b[39;00m enumerate(hp_sets):\n\u001b[32m     69\u001b[39m                 \u001b[38;5;66;03m# TODO What if there are no hyperparameters\u001b[39;00m\n\u001b[32m     70\u001b[39m                 hp_ID = f\"{comm_method_name}_{hpi}\"\n\u001b[32m---> \u001b[39m\u001b[32m71\u001b[39m                 communities = comm_method(adj_matrix)\n\u001b[32m     72\u001b[39m \n\u001b[32m     73\u001b[39m                 result = {\n\u001b[32m     74\u001b[39m                     \u001b[33m\"hyperparameters\"\u001b[39m:hp,\n",
      "\u001b[32mc:\\Users\\maxtv\\Documents\\Studie\\NWSC\\media-bias-networks\\src\\community_detection.py\u001b[39m in \u001b[36m?\u001b[39m\u001b[34m(adj_mat)\u001b[39m\n\u001b[32m     21\u001b[39m         ?[type]: Mapping of node to community ID.\n\u001b[32m     22\u001b[39m     \"\"\"\n\u001b[32m     23\u001b[39m     \u001b[38;5;66;03m# load the karate club graph\u001b[39;00m\n\u001b[32m     24\u001b[39m     \u001b[38;5;66;03m# G = nx.karate_club_graph()\u001b[39;00m\n\u001b[32m---> \u001b[39m\u001b[32m25\u001b[39m     G = nx.from_numpy_array(adj_mat)\n\u001b[32m     26\u001b[39m \n\u001b[32m     27\u001b[39m     \u001b[38;5;66;03m#first compute the best partition\u001b[39;00m\n\u001b[32m     28\u001b[39m     partition = community_louvain.best_partition(G)\n",
      "\u001b[32mc:\\Users\\maxtv\\.conda\\envs\\NWSC\\Lib\\site-packages\\networkx\\utils\\decorators.py\u001b[39m in \u001b[36m?\u001b[39m\u001b[34m(_argmap__wrapper, *args, **kwargs)\u001b[39m\n\u001b[32m    787\u001b[39m         \u001b[38;5;28;01mdef\u001b[39;00m func(*args, __wrapper=\u001b[38;5;28;01mNone\u001b[39;00m, **kwargs):\n\u001b[32m--> \u001b[39m\u001b[32m788\u001b[39m             \u001b[38;5;28;01mreturn\u001b[39;00m argmap._lazy_compile(__wrapper)(*args, **kwargs)\n",
      "\u001b[32m<class 'networkx.utils.decorators.argmap'> compilation 4\u001b[39m in \u001b[36m?\u001b[39m\u001b[34m(A, parallel_edges, create_using, edge_attr, nodelist, backend, **backend_kwargs)\u001b[39m\n\u001b[32m      1\u001b[39m \u001b[33m'Could not get source, probably due dynamically evaluated source code.'\u001b[39m\n",
      "\u001b[32mc:\\Users\\maxtv\\.conda\\envs\\NWSC\\Lib\\site-packages\\networkx\\utils\\backends.py\u001b[39m in \u001b[36m?\u001b[39m\u001b[34m(self, backend, *args, **kwargs)\u001b[39m\n\u001b[32m    963\u001b[39m         \u001b[38;5;28;01mif\u001b[39;00m \u001b[38;5;28;01mnot\u001b[39;00m backends:\n\u001b[32m    964\u001b[39m             \u001b[38;5;66;03m# Fast path if no backends are installed\u001b[39;00m\n\u001b[32m    965\u001b[39m             \u001b[38;5;28;01mif\u001b[39;00m backend \u001b[38;5;28;01mis\u001b[39;00m \u001b[38;5;28;01mnot\u001b[39;00m \u001b[38;5;28;01mNone\u001b[39;00m \u001b[38;5;28;01mand\u001b[39;00m backend != \u001b[33m\"networkx\"\u001b[39m:\n\u001b[32m    966\u001b[39m                 \u001b[38;5;28;01mraise\u001b[39;00m ImportError(f\"'{backend}' backend is not installed\")\n\u001b[32m--> \u001b[39m\u001b[32m967\u001b[39m             \u001b[38;5;28;01mreturn\u001b[39;00m self.orig_func(*args, **kwargs)\n\u001b[32m    968\u001b[39m \n\u001b[32m    969\u001b[39m         \u001b[38;5;66;03m# Use `backend_name` in this function instead of `backend`.\u001b[39;00m\n\u001b[32m    970\u001b[39m         \u001b[38;5;66;03m# This is purely for aesthetics and to make it easier to search for this\u001b[39;00m\n",
      "\u001b[32mc:\\Users\\maxtv\\.conda\\envs\\NWSC\\Lib\\site-packages\\networkx\\convert_matrix.py\u001b[39m in \u001b[36m?\u001b[39m\u001b[34m(A, parallel_edges, create_using, edge_attr, nodelist)\u001b[39m\n\u001b[32m   1239\u001b[39m         \u001b[38;5;28;01mraise\u001b[39;00m nx.NetworkXError(f\"Input array must be 2D, not {A.ndim}\")\n\u001b[32m   1240\u001b[39m     n, m = A.shape\n\u001b[32m   1241\u001b[39m     \u001b[38;5;28;01mif\u001b[39;00m n != m:\n\u001b[32m   1242\u001b[39m         \u001b[38;5;28;01mraise\u001b[39;00m nx.NetworkXError(f\"Adjacency matrix not square: nx,ny={A.shape}\")\n\u001b[32m-> \u001b[39m\u001b[32m1243\u001b[39m     dt = A.dtype\n\u001b[32m   1244\u001b[39m     \u001b[38;5;28;01mtry\u001b[39;00m:\n\u001b[32m   1245\u001b[39m         python_type = kind_to_python_type[dt.kind]\n\u001b[32m   1246\u001b[39m     \u001b[38;5;28;01mexcept\u001b[39;00m Exception \u001b[38;5;28;01mas\u001b[39;00m err:\n",
      "\u001b[32mc:\\Users\\maxtv\\.conda\\envs\\NWSC\\Lib\\site-packages\\pandas\\core\\generic.py\u001b[39m in \u001b[36m?\u001b[39m\u001b[34m(self, name)\u001b[39m\n\u001b[32m   6295\u001b[39m             \u001b[38;5;28;01mand\u001b[39;00m name \u001b[38;5;28;01mnot\u001b[39;00m \u001b[38;5;28;01min\u001b[39;00m self._accessors\n\u001b[32m   6296\u001b[39m             \u001b[38;5;28;01mand\u001b[39;00m self._info_axis._can_hold_identifiers_and_holds_name(name)\n\u001b[32m   6297\u001b[39m         ):\n\u001b[32m   6298\u001b[39m             \u001b[38;5;28;01mreturn\u001b[39;00m self[name]\n\u001b[32m-> \u001b[39m\u001b[32m6299\u001b[39m         \u001b[38;5;28;01mreturn\u001b[39;00m object.__getattribute__(self, name)\n",
      "\u001b[31mAttributeError\u001b[39m: 'DataFrame' object has no attribute 'dtype'"
     ]
    }
   ],
   "source": [
    "fw.run_experiment(1,30)"
   ]
  },
  {
   "cell_type": "code",
   "execution_count": 31,
   "id": "9164fa9a",
   "metadata": {},
   "outputs": [
    {
     "name": "stdout",
     "output_type": "stream",
     "text": [
      "ari 0.5805243445692884\n",
      "nmi 0.7084075737327697\n",
      "ned 0.7551020408163265\n",
      "\n",
      "ari 0.6871253583528798\n",
      "nmi 0.7854456928809548\n",
      "ned 0.8571428571428572\n",
      "\n",
      "ari 0.5781781781781782\n",
      "nmi 0.7461249567432026\n",
      "ned 0.7551020408163265\n",
      "\n",
      "ari 0.6660470879801735\n",
      "nmi 0.7639471613626613\n",
      "ned 0.7755102040816326\n",
      "\n",
      "ari 0.7167630057803468\n",
      "nmi 0.7990392175733769\n",
      "ned 0.8163265306122449\n",
      "\n",
      "ari 0.49084611578426524\n",
      "nmi 0.6706424076641104\n",
      "ned 0.7142857142857143\n",
      "\n",
      "ari 0.604735883424408\n",
      "nmi 0.7296449759330995\n",
      "ned 0.7755102040816326\n",
      "\n",
      "ari 0.5929561993683922\n",
      "nmi 0.7535178703396224\n",
      "ned 0.7346938775510203\n",
      "\n",
      "ari 0.5335110434120335\n",
      "nmi 0.6668593506807521\n",
      "ned 0.7346938775510203\n",
      "\n",
      "ari 0.5832900545312906\n",
      "nmi 0.7618525646808638\n",
      "ned 0.7142857142857143\n",
      "\n"
     ]
    }
   ],
   "source": [
    "from collections import Counter\n",
    "from itertools import combinations\n",
    "from partition_metrics import all_metrics\n",
    "\n",
    "def compare_two_coms(s1,s2):\n",
    "    coms1 = list(fw.results[f'sample_{s1}']['normalized_counts']['louvain']['louvain_0']['communities'].values())\n",
    "    coms2 = list(fw.results[f'sample_{s2}']['normalized_counts']['louvain']['louvain_0']['communities'].values())\n",
    "\n",
    "    # print(coms1)\n",
    "    r = all_metrics(coms1,coms2,verbose=0)\n",
    "    print('ari',r['ari'])\n",
    "    print('nmi',r['nmi'])\n",
    "    print('ned',r['norm_edit_distance'])\n",
    "    print()\n",
    "\n",
    "for s1,s2 in combinations(list(range(5)),2):\n",
    "    compare_two_coms(s1,s2)\n",
    "    # print('-'*60)"
   ]
  },
  {
   "cell_type": "code",
   "execution_count": 7,
   "id": "66110ff0",
   "metadata": {},
   "outputs": [
    {
     "data": {
      "text/html": [
       "<div>\n",
       "<style scoped>\n",
       "    .dataframe tbody tr th:only-of-type {\n",
       "        vertical-align: middle;\n",
       "    }\n",
       "\n",
       "    .dataframe tbody tr th {\n",
       "        vertical-align: top;\n",
       "    }\n",
       "\n",
       "    .dataframe thead th {\n",
       "        text-align: right;\n",
       "    }\n",
       "</style>\n",
       "<table border=\"1\" class=\"dataframe\">\n",
       "  <thead>\n",
       "    <tr style=\"text-align: right;\">\n",
       "      <th></th>\n",
       "      <th>sample_ID</th>\n",
       "      <th>modeling_method</th>\n",
       "      <th>comm_method_name</th>\n",
       "      <th>hp_ID</th>\n",
       "      <th>hyperparameters</th>\n",
       "      <th>communities</th>\n",
       "    </tr>\n",
       "  </thead>\n",
       "  <tbody>\n",
       "    <tr>\n",
       "      <th>0</th>\n",
       "      <td>sample_0</td>\n",
       "      <td>normalized_counts</td>\n",
       "      <td>louvain</td>\n",
       "      <td>louvain_0</td>\n",
       "      <td>{'parameter1': 5, 'parameter2': 12}</td>\n",
       "      <td>{0: 0, 1: 1, 2: 1, 3: 2, 4: 0, 5: 0, 6: 5, 7: ...</td>\n",
       "    </tr>\n",
       "    <tr>\n",
       "      <th>1</th>\n",
       "      <td>sample_1</td>\n",
       "      <td>normalized_counts</td>\n",
       "      <td>louvain</td>\n",
       "      <td>louvain_0</td>\n",
       "      <td>{'parameter1': 5, 'parameter2': 12}</td>\n",
       "      <td>{0: 0, 1: 1, 2: 2, 3: 2, 4: 0, 5: 0, 6: 3, 7: ...</td>\n",
       "    </tr>\n",
       "    <tr>\n",
       "      <th>2</th>\n",
       "      <td>sample_2</td>\n",
       "      <td>normalized_counts</td>\n",
       "      <td>louvain</td>\n",
       "      <td>louvain_0</td>\n",
       "      <td>{'parameter1': 5, 'parameter2': 12}</td>\n",
       "      <td>{0: 0, 1: 1, 2: 2, 3: 2, 4: 0, 5: 0, 6: 3, 7: ...</td>\n",
       "    </tr>\n",
       "    <tr>\n",
       "      <th>3</th>\n",
       "      <td>sample_3</td>\n",
       "      <td>normalized_counts</td>\n",
       "      <td>louvain</td>\n",
       "      <td>louvain_0</td>\n",
       "      <td>{'parameter1': 5, 'parameter2': 12}</td>\n",
       "      <td>{0: 0, 1: 1, 2: 2, 3: 3, 4: 0, 5: 0, 6: 4, 7: ...</td>\n",
       "    </tr>\n",
       "    <tr>\n",
       "      <th>4</th>\n",
       "      <td>sample_4</td>\n",
       "      <td>normalized_counts</td>\n",
       "      <td>louvain</td>\n",
       "      <td>louvain_0</td>\n",
       "      <td>{'parameter1': 5, 'parameter2': 12}</td>\n",
       "      <td>{0: 0, 1: 1, 2: 2, 3: 1, 4: 0, 5: 0, 6: 3, 7: ...</td>\n",
       "    </tr>\n",
       "  </tbody>\n",
       "</table>\n",
       "</div>"
      ],
      "text/plain": [
       "  sample_ID    modeling_method comm_method_name      hp_ID  \\\n",
       "0  sample_0  normalized_counts          louvain  louvain_0   \n",
       "1  sample_1  normalized_counts          louvain  louvain_0   \n",
       "2  sample_2  normalized_counts          louvain  louvain_0   \n",
       "3  sample_3  normalized_counts          louvain  louvain_0   \n",
       "4  sample_4  normalized_counts          louvain  louvain_0   \n",
       "\n",
       "                       hyperparameters  \\\n",
       "0  {'parameter1': 5, 'parameter2': 12}   \n",
       "1  {'parameter1': 5, 'parameter2': 12}   \n",
       "2  {'parameter1': 5, 'parameter2': 12}   \n",
       "3  {'parameter1': 5, 'parameter2': 12}   \n",
       "4  {'parameter1': 5, 'parameter2': 12}   \n",
       "\n",
       "                                         communities  \n",
       "0  {0: 0, 1: 1, 2: 1, 3: 2, 4: 0, 5: 0, 6: 5, 7: ...  \n",
       "1  {0: 0, 1: 1, 2: 2, 3: 2, 4: 0, 5: 0, 6: 3, 7: ...  \n",
       "2  {0: 0, 1: 1, 2: 2, 3: 2, 4: 0, 5: 0, 6: 3, 7: ...  \n",
       "3  {0: 0, 1: 1, 2: 2, 3: 3, 4: 0, 5: 0, 6: 4, 7: ...  \n",
       "4  {0: 0, 1: 1, 2: 2, 3: 1, 4: 0, 5: 0, 6: 3, 7: ...  "
      ]
     },
     "execution_count": 7,
     "metadata": {},
     "output_type": "execute_result"
    }
   ],
   "source": [
    "import pandas as pd\n",
    "\n",
    "rows = []\n",
    "for sample_ID, modeling_methods in fw.results.items():\n",
    "    for modeling_method, comm_methods in modeling_methods.items():\n",
    "        for comm_method_name, hp_dict in comm_methods.items():\n",
    "            for hp_ID, result in hp_dict.items():\n",
    "                row = {\n",
    "                    'sample_ID': sample_ID,\n",
    "                    'modeling_method': modeling_method,\n",
    "                    'comm_method_name': comm_method_name,\n",
    "                    'hp_ID': hp_ID,\n",
    "                    **result  # assuming result is a dict\n",
    "                }\n",
    "                rows.append(row)\n",
    "\n",
    "df = pd.DataFrame(rows)\n",
    "df"
   ]
  }
 ],
 "metadata": {
  "kernelspec": {
   "display_name": "NWSC",
   "language": "python",
   "name": "python3"
  },
  "language_info": {
   "codemirror_mode": {
    "name": "ipython",
    "version": 3
   },
   "file_extension": ".py",
   "mimetype": "text/x-python",
   "name": "python",
   "nbconvert_exporter": "python",
   "pygments_lexer": "ipython3",
   "version": "3.13.2"
  }
 },
 "nbformat": 4,
 "nbformat_minor": 5
}
