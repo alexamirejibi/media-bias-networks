{
 "cells": [
  {
   "cell_type": "code",
   "execution_count": 1,
   "id": "19762197",
   "metadata": {},
   "outputs": [],
   "source": [
    "from framework import Framework"
   ]
  },
  {
   "cell_type": "code",
   "execution_count": 2,
   "id": "e15c00f7",
   "metadata": {},
   "outputs": [
    {
     "name": "stdout",
     "output_type": "stream",
     "text": [
      "experimenting with:\n",
      " ['normalized_counts']\n",
      "experimenting with:\n",
      " ['louvain']\n"
     ]
    }
   ],
   "source": [
    "data_dir = \"daily_cluster_data/daily_cluster_matrices_min_6\"\n",
    "\n",
    "fw = Framework(data_dir,verbose=1)"
   ]
  },
  {
   "cell_type": "code",
   "execution_count": 3,
   "id": "898eb3e1",
   "metadata": {},
   "outputs": [],
   "source": [
    "# samples = fw.load_samples(n_samples=20,sample_size=30)\n",
    "# len(samples)"
   ]
  },
  {
   "cell_type": "code",
   "execution_count": null,
   "id": "7398ed80",
   "metadata": {},
   "outputs": [
    {
     "name": "stdout",
     "output_type": "stream",
     "text": [
      "sample_0 normalized_counts louvain louvain_0\n",
      "{0: 0, 1: 1, 2: 1, 3: 2, 4: 0, 5: 0, 6: 5, 7: 0, 8: 6, 9: 0, 10: 5, 11: 2, 12: 6, 13: 1, 14: 1, 15: 1, 16: 2, 17: 0, 18: 5, 19: 1, 20: 3, 21: 1, 22: 6, 23: 1, 24: 3, 25: 5, 26: 6, 27: 6, 28: 5, 29: 6, 30: 0, 31: 1, 32: 3, 33: 3, 34: 3, 35: 1, 36: 1, 37: 1, 38: 4, 39: 1, 40: 7, 41: 5, 42: 0, 43: 1, 44: 0, 45: 2, 46: 0, 47: 6, 48: 2}\n",
      "sample_1 normalized_counts louvain louvain_0\n",
      "{0: 0, 1: 1, 2: 2, 3: 2, 4: 0, 5: 0, 6: 3, 7: 0, 8: 4, 9: 0, 10: 3, 11: 5, 12: 4, 13: 1, 14: 1, 15: 1, 16: 2, 17: 0, 18: 3, 19: 3, 20: 0, 21: 1, 22: 4, 23: 1, 24: 6, 25: 0, 26: 6, 27: 5, 28: 7, 29: 4, 30: 0, 31: 1, 32: 6, 33: 6, 34: 6, 35: 1, 36: 2, 37: 7, 38: 8, 39: 1, 40: 6, 41: 3, 42: 0, 43: 1, 44: 0, 45: 2, 46: 0, 47: 4, 48: 1}\n",
      "sample_2 normalized_counts louvain louvain_0\n",
      "{0: 0, 1: 1, 2: 2, 3: 2, 4: 0, 5: 0, 6: 3, 7: 0, 8: 4, 9: 0, 10: 3, 11: 2, 12: 4, 13: 1, 14: 1, 15: 1, 16: 2, 17: 0, 18: 3, 19: 3, 20: 0, 21: 1, 22: 4, 23: 7, 24: 5, 25: 3, 26: 4, 27: 0, 28: 6, 29: 4, 30: 0, 31: 1, 32: 5, 33: 5, 34: 5, 35: 1, 36: 1, 37: 1, 38: 6, 39: 1, 40: 7, 41: 3, 42: 0, 43: 1, 44: 0, 45: 2, 46: 0, 47: 4, 48: 1}\n",
      "sample_3 normalized_counts louvain louvain_0\n",
      "{0: 0, 1: 1, 2: 2, 3: 3, 4: 0, 5: 0, 6: 4, 7: 0, 8: 5, 9: 0, 10: 1, 11: 3, 12: 5, 13: 1, 14: 1, 15: 1, 16: 3, 17: 0, 18: 4, 19: 1, 20: 2, 21: 3, 22: 5, 23: 1, 24: 7, 25: 4, 26: 5, 27: 0, 28: 6, 29: 5, 30: 0, 31: 1, 32: 7, 33: 7, 34: 7, 35: 3, 36: 3, 37: 3, 38: 2, 39: 3, 40: 3, 41: 4, 42: 0, 43: 1, 44: 0, 45: 3, 46: 0, 47: 5, 48: 2}\n",
      "sample_4 normalized_counts louvain louvain_0\n",
      "{0: 0, 1: 1, 2: 2, 3: 1, 4: 0, 5: 0, 6: 3, 7: 0, 8: 4, 9: 0, 10: 2, 11: 5, 12: 4, 13: 1, 14: 1, 15: 1, 16: 1, 17: 0, 18: 3, 19: 1, 20: 7, 21: 1, 22: 4, 23: 1, 24: 7, 25: 0, 26: 4, 27: 5, 28: 6, 29: 4, 30: 0, 31: 1, 32: 7, 33: 7, 34: 7, 35: 1, 36: 2, 37: 1, 38: 2, 39: 1, 40: 2, 41: 3, 42: 0, 43: 1, 44: 0, 45: 1, 46: 0, 47: 4, 48: 7}\n"
     ]
    }
   ],
   "source": [
    "fw.run_experiment(5,30)"
   ]
  },
  {
   "cell_type": "code",
   "execution_count": 31,
   "id": "9164fa9a",
   "metadata": {},
   "outputs": [
    {
     "name": "stdout",
     "output_type": "stream",
     "text": [
      "ari 0.5805243445692884\n",
      "nmi 0.7084075737327697\n",
      "ned 0.7551020408163265\n",
      "\n",
      "ari 0.6871253583528798\n",
      "nmi 0.7854456928809548\n",
      "ned 0.8571428571428572\n",
      "\n",
      "ari 0.5781781781781782\n",
      "nmi 0.7461249567432026\n",
      "ned 0.7551020408163265\n",
      "\n",
      "ari 0.6660470879801735\n",
      "nmi 0.7639471613626613\n",
      "ned 0.7755102040816326\n",
      "\n",
      "ari 0.7167630057803468\n",
      "nmi 0.7990392175733769\n",
      "ned 0.8163265306122449\n",
      "\n",
      "ari 0.49084611578426524\n",
      "nmi 0.6706424076641104\n",
      "ned 0.7142857142857143\n",
      "\n",
      "ari 0.604735883424408\n",
      "nmi 0.7296449759330995\n",
      "ned 0.7755102040816326\n",
      "\n",
      "ari 0.5929561993683922\n",
      "nmi 0.7535178703396224\n",
      "ned 0.7346938775510203\n",
      "\n",
      "ari 0.5335110434120335\n",
      "nmi 0.6668593506807521\n",
      "ned 0.7346938775510203\n",
      "\n",
      "ari 0.5832900545312906\n",
      "nmi 0.7618525646808638\n",
      "ned 0.7142857142857143\n",
      "\n"
     ]
    }
   ],
   "source": [
    "from collections import Counter\n",
    "from itertools import combinations\n",
    "from partition_metrics import all_metrics\n",
    "\n",
    "def compare_two_coms(s1,s2):\n",
    "    coms1 = list(fw.results[f'sample_{s1}']['normalized_counts']['louvain']['louvain_0']['communities'].values())\n",
    "    coms2 = list(fw.results[f'sample_{s2}']['normalized_counts']['louvain']['louvain_0']['communities'].values())\n",
    "\n",
    "    # print(coms1)\n",
    "    r = all_metrics(coms1,coms2,verbose=0)\n",
    "    print('ari',r['ari'])\n",
    "    print('nmi',r['nmi'])\n",
    "    print('ned',r['norm_edit_distance'])\n",
    "    print()\n",
    "\n",
    "for s1,s2 in combinations(list(range(5)),2):\n",
    "    compare_two_coms(s1,s2)\n",
    "    # print('-'*60)"
   ]
  },
  {
   "cell_type": "code",
   "execution_count": 7,
   "id": "66110ff0",
   "metadata": {},
   "outputs": [
    {
     "data": {
      "text/html": [
       "<div>\n",
       "<style scoped>\n",
       "    .dataframe tbody tr th:only-of-type {\n",
       "        vertical-align: middle;\n",
       "    }\n",
       "\n",
       "    .dataframe tbody tr th {\n",
       "        vertical-align: top;\n",
       "    }\n",
       "\n",
       "    .dataframe thead th {\n",
       "        text-align: right;\n",
       "    }\n",
       "</style>\n",
       "<table border=\"1\" class=\"dataframe\">\n",
       "  <thead>\n",
       "    <tr style=\"text-align: right;\">\n",
       "      <th></th>\n",
       "      <th>sample_ID</th>\n",
       "      <th>modeling_method</th>\n",
       "      <th>comm_method_name</th>\n",
       "      <th>hp_ID</th>\n",
       "      <th>hyperparameters</th>\n",
       "      <th>communities</th>\n",
       "    </tr>\n",
       "  </thead>\n",
       "  <tbody>\n",
       "    <tr>\n",
       "      <th>0</th>\n",
       "      <td>sample_0</td>\n",
       "      <td>normalized_counts</td>\n",
       "      <td>louvain</td>\n",
       "      <td>louvain_0</td>\n",
       "      <td>{'parameter1': 5, 'parameter2': 12}</td>\n",
       "      <td>{0: 0, 1: 1, 2: 1, 3: 2, 4: 0, 5: 0, 6: 5, 7: ...</td>\n",
       "    </tr>\n",
       "    <tr>\n",
       "      <th>1</th>\n",
       "      <td>sample_1</td>\n",
       "      <td>normalized_counts</td>\n",
       "      <td>louvain</td>\n",
       "      <td>louvain_0</td>\n",
       "      <td>{'parameter1': 5, 'parameter2': 12}</td>\n",
       "      <td>{0: 0, 1: 1, 2: 2, 3: 2, 4: 0, 5: 0, 6: 3, 7: ...</td>\n",
       "    </tr>\n",
       "    <tr>\n",
       "      <th>2</th>\n",
       "      <td>sample_2</td>\n",
       "      <td>normalized_counts</td>\n",
       "      <td>louvain</td>\n",
       "      <td>louvain_0</td>\n",
       "      <td>{'parameter1': 5, 'parameter2': 12}</td>\n",
       "      <td>{0: 0, 1: 1, 2: 2, 3: 2, 4: 0, 5: 0, 6: 3, 7: ...</td>\n",
       "    </tr>\n",
       "    <tr>\n",
       "      <th>3</th>\n",
       "      <td>sample_3</td>\n",
       "      <td>normalized_counts</td>\n",
       "      <td>louvain</td>\n",
       "      <td>louvain_0</td>\n",
       "      <td>{'parameter1': 5, 'parameter2': 12}</td>\n",
       "      <td>{0: 0, 1: 1, 2: 2, 3: 3, 4: 0, 5: 0, 6: 4, 7: ...</td>\n",
       "    </tr>\n",
       "    <tr>\n",
       "      <th>4</th>\n",
       "      <td>sample_4</td>\n",
       "      <td>normalized_counts</td>\n",
       "      <td>louvain</td>\n",
       "      <td>louvain_0</td>\n",
       "      <td>{'parameter1': 5, 'parameter2': 12}</td>\n",
       "      <td>{0: 0, 1: 1, 2: 2, 3: 1, 4: 0, 5: 0, 6: 3, 7: ...</td>\n",
       "    </tr>\n",
       "  </tbody>\n",
       "</table>\n",
       "</div>"
      ],
      "text/plain": [
       "  sample_ID    modeling_method comm_method_name      hp_ID  \\\n",
       "0  sample_0  normalized_counts          louvain  louvain_0   \n",
       "1  sample_1  normalized_counts          louvain  louvain_0   \n",
       "2  sample_2  normalized_counts          louvain  louvain_0   \n",
       "3  sample_3  normalized_counts          louvain  louvain_0   \n",
       "4  sample_4  normalized_counts          louvain  louvain_0   \n",
       "\n",
       "                       hyperparameters  \\\n",
       "0  {'parameter1': 5, 'parameter2': 12}   \n",
       "1  {'parameter1': 5, 'parameter2': 12}   \n",
       "2  {'parameter1': 5, 'parameter2': 12}   \n",
       "3  {'parameter1': 5, 'parameter2': 12}   \n",
       "4  {'parameter1': 5, 'parameter2': 12}   \n",
       "\n",
       "                                         communities  \n",
       "0  {0: 0, 1: 1, 2: 1, 3: 2, 4: 0, 5: 0, 6: 5, 7: ...  \n",
       "1  {0: 0, 1: 1, 2: 2, 3: 2, 4: 0, 5: 0, 6: 3, 7: ...  \n",
       "2  {0: 0, 1: 1, 2: 2, 3: 2, 4: 0, 5: 0, 6: 3, 7: ...  \n",
       "3  {0: 0, 1: 1, 2: 2, 3: 3, 4: 0, 5: 0, 6: 4, 7: ...  \n",
       "4  {0: 0, 1: 1, 2: 2, 3: 1, 4: 0, 5: 0, 6: 3, 7: ...  "
      ]
     },
     "execution_count": 7,
     "metadata": {},
     "output_type": "execute_result"
    }
   ],
   "source": [
    "import pandas as pd\n",
    "\n",
    "rows = []\n",
    "for sample_ID, modeling_methods in fw.results.items():\n",
    "    for modeling_method, comm_methods in modeling_methods.items():\n",
    "        for comm_method_name, hp_dict in comm_methods.items():\n",
    "            for hp_ID, result in hp_dict.items():\n",
    "                row = {\n",
    "                    'sample_ID': sample_ID,\n",
    "                    'modeling_method': modeling_method,\n",
    "                    'comm_method_name': comm_method_name,\n",
    "                    'hp_ID': hp_ID,\n",
    "                    **result  # assuming result is a dict\n",
    "                }\n",
    "                rows.append(row)\n",
    "\n",
    "df = pd.DataFrame(rows)\n",
    "df"
   ]
  }
 ],
 "metadata": {
  "kernelspec": {
   "display_name": "NWSC",
   "language": "python",
   "name": "python3"
  },
  "language_info": {
   "codemirror_mode": {
    "name": "ipython",
    "version": 3
   },
   "file_extension": ".py",
   "mimetype": "text/x-python",
   "name": "python",
   "nbconvert_exporter": "python",
   "pygments_lexer": "ipython3",
   "version": "3.13.2"
  }
 },
 "nbformat": 4,
 "nbformat_minor": 5
}
