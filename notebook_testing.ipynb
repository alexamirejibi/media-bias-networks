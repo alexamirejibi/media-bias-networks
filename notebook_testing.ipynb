{
 "cells": [
  {
   "cell_type": "code",
   "execution_count": 1,
   "id": "19762197",
   "metadata": {},
   "outputs": [],
   "source": [
    "from framework import Framework"
   ]
  },
  {
   "cell_type": "code",
   "execution_count": 2,
   "id": "e15c00f7",
   "metadata": {},
   "outputs": [
    {
     "name": "stdout",
     "output_type": "stream",
     "text": [
      "experimenting with:\n",
      " ['louvain']\n"
     ]
    }
   ],
   "source": [
    "data_dir = \"daily_cluster_data/daily_cluster_matrices_min_6\"\n",
    "\n",
    "fw = Framework(data_dir,verbose=1)"
   ]
  },
  {
   "cell_type": "code",
   "execution_count": 21,
   "id": "7398ed80",
   "metadata": {},
   "outputs": [],
   "source": [
    "one_community_detection_run = fw.results['sample_0']['cooccurrence']['louvain']['louvain_0']['communities']"
   ]
  },
  {
   "cell_type": "code",
   "execution_count": 23,
   "id": "5b76a521",
   "metadata": {},
   "outputs": [
    {
     "data": {
      "text/plain": [
       "{0: 0,\n",
       " 1: 1,\n",
       " 2: 1,\n",
       " 3: 1,\n",
       " 4: 0,\n",
       " 5: 0,\n",
       " 6: 1,\n",
       " 7: 0,\n",
       " 8: 1,\n",
       " 9: 0,\n",
       " 10: 1,\n",
       " 11: 1,\n",
       " 12: 1,\n",
       " 13: 1,\n",
       " 14: 1,\n",
       " 15: 1,\n",
       " 16: 1,\n",
       " 17: 0,\n",
       " 18: 1,\n",
       " 19: 1,\n",
       " 20: 0,\n",
       " 21: 1,\n",
       " 22: 1,\n",
       " 23: 1,\n",
       " 24: 1,\n",
       " 25: 0,\n",
       " 26: 1,\n",
       " 27: 0,\n",
       " 28: 1,\n",
       " 29: 1,\n",
       " 30: 0,\n",
       " 31: 1,\n",
       " 32: 1,\n",
       " 33: 1,\n",
       " 34: 1,\n",
       " 35: 1,\n",
       " 36: 1,\n",
       " 37: 1,\n",
       " 38: 1,\n",
       " 39: 1,\n",
       " 40: 1,\n",
       " 41: 1,\n",
       " 42: 0,\n",
       " 43: 1,\n",
       " 44: 0,\n",
       " 45: 1,\n",
       " 46: 0,\n",
       " 47: 1,\n",
       " 48: 1}"
      ]
     },
     "execution_count": 23,
     "metadata": {},
     "output_type": "execute_result"
    }
   ],
   "source": [
    "one_community_detection_run"
   ]
  },
  {
   "cell_type": "code",
   "execution_count": 9,
   "id": "2b31e5cf",
   "metadata": {},
   "outputs": [],
   "source": [
    "results"
   ]
  },
  {
   "cell_type": "code",
   "execution_count": null,
   "id": "9164fa9a",
   "metadata": {},
   "outputs": [
    {
     "ename": "KeyError",
     "evalue": "'louvain'",
     "output_type": "error",
     "traceback": [
      "\u001b[0;31m---------------------------------------------------------------------------\u001b[0m",
      "\u001b[0;31mKeyError\u001b[0m                                  Traceback (most recent call last)",
      "Cell \u001b[0;32mIn[24], line 17\u001b[0m\n\u001b[1;32m     14\u001b[0m     \u001b[38;5;28mprint\u001b[39m()\n\u001b[1;32m     16\u001b[0m \u001b[38;5;28;01mfor\u001b[39;00m s1,s2 \u001b[38;5;129;01min\u001b[39;00m combinations(\u001b[38;5;28mlist\u001b[39m(\u001b[38;5;28mrange\u001b[39m(\u001b[38;5;241m5\u001b[39m)),\u001b[38;5;241m2\u001b[39m):\n\u001b[0;32m---> 17\u001b[0m     \u001b[43mcompare_two_coms\u001b[49m\u001b[43m(\u001b[49m\u001b[43ms1\u001b[49m\u001b[43m,\u001b[49m\u001b[43ms2\u001b[49m\u001b[43m)\u001b[49m\n\u001b[1;32m     18\u001b[0m     \u001b[38;5;66;03m# print('-'*60)\u001b[39;00m\n",
      "Cell \u001b[0;32mIn[24], line 6\u001b[0m, in \u001b[0;36mcompare_two_coms\u001b[0;34m(s1, s2)\u001b[0m\n\u001b[1;32m      5\u001b[0m \u001b[38;5;28;01mdef\u001b[39;00m\u001b[38;5;250m \u001b[39m\u001b[38;5;21mcompare_two_coms\u001b[39m(s1,s2):\n\u001b[0;32m----> 6\u001b[0m     coms1 \u001b[38;5;241m=\u001b[39m \u001b[38;5;28mlist\u001b[39m(\u001b[43mfw\u001b[49m\u001b[38;5;241;43m.\u001b[39;49m\u001b[43mresults\u001b[49m\u001b[43m[\u001b[49m\u001b[38;5;124;43mf\u001b[39;49m\u001b[38;5;124;43m'\u001b[39;49m\u001b[38;5;124;43msample_\u001b[39;49m\u001b[38;5;132;43;01m{\u001b[39;49;00m\u001b[43ms1\u001b[49m\u001b[38;5;132;43;01m}\u001b[39;49;00m\u001b[38;5;124;43m'\u001b[39;49m\u001b[43m]\u001b[49m\u001b[43m[\u001b[49m\u001b[38;5;124;43m'\u001b[39;49m\u001b[38;5;124;43mnormalized_counts\u001b[39;49m\u001b[38;5;124;43m'\u001b[39;49m\u001b[43m]\u001b[49m\u001b[43m[\u001b[49m\u001b[38;5;124;43m'\u001b[39;49m\u001b[38;5;124;43mlouvain\u001b[39;49m\u001b[38;5;124;43m'\u001b[39;49m\u001b[43m]\u001b[49m\u001b[43m[\u001b[49m\u001b[38;5;124;43m'\u001b[39;49m\u001b[38;5;124;43mlouvain\u001b[39;49m\u001b[38;5;124;43m'\u001b[39;49m\u001b[43m]\u001b[49m[\u001b[38;5;124m'\u001b[39m\u001b[38;5;124mcommunities\u001b[39m\u001b[38;5;124m'\u001b[39m]\u001b[38;5;241m.\u001b[39mvalues())\n\u001b[1;32m      7\u001b[0m     coms2 \u001b[38;5;241m=\u001b[39m \u001b[38;5;28mlist\u001b[39m(fw\u001b[38;5;241m.\u001b[39mresults[\u001b[38;5;124mf\u001b[39m\u001b[38;5;124m'\u001b[39m\u001b[38;5;124msample_\u001b[39m\u001b[38;5;132;01m{\u001b[39;00ms2\u001b[38;5;132;01m}\u001b[39;00m\u001b[38;5;124m'\u001b[39m][\u001b[38;5;124m'\u001b[39m\u001b[38;5;124mnormalized_counts\u001b[39m\u001b[38;5;124m'\u001b[39m][\u001b[38;5;124m'\u001b[39m\u001b[38;5;124mlouvain\u001b[39m\u001b[38;5;124m'\u001b[39m][\u001b[38;5;124m'\u001b[39m\u001b[38;5;124mlouvain\u001b[39m\u001b[38;5;124m'\u001b[39m][\u001b[38;5;124m'\u001b[39m\u001b[38;5;124mcommunities\u001b[39m\u001b[38;5;124m'\u001b[39m]\u001b[38;5;241m.\u001b[39mvalues())\n\u001b[1;32m      9\u001b[0m     \u001b[38;5;66;03m# print(coms1)\u001b[39;00m\n",
      "\u001b[0;31mKeyError\u001b[0m: 'louvain'"
     ]
    }
   ],
   "source": [
    "from collections import Counter\n",
    "from itertools import combinations\n",
    "from partition_metrics import all_metrics\n",
    "\n",
    "def compare_two_coms(s1,s2):\n",
    "    coms1 = list(fw.results[f'sample_{s1}']['normalized_counts']['louvain']['louvain']['communities'].values())\n",
    "    coms2 = list(fw.results[f'sample_{s2}']['normalized_counts']['louvain']['louvain']['communities'].values())\n",
    "\n",
    "    # print(coms1)\n",
    "    r = all_metrics(coms1,coms2,verbose=0)\n",
    "    print('ari',r['ari'])\n",
    "    print('nmi',r['nmi'])\n",
    "    print('ned',r['norm_edit_distance'])\n",
    "    print()\n",
    "\n",
    "for s1,s2 in combinations(list(range(5)),2):\n",
    "    compare_two_coms(s1,s2)\n",
    "    # print('-'*60)"
   ]
  },
  {
   "cell_type": "code",
   "execution_count": null,
   "id": "ead8e372",
   "metadata": {},
   "outputs": [],
   "source": []
  },
  {
   "cell_type": "code",
   "execution_count": 7,
   "id": "66110ff0",
   "metadata": {},
   "outputs": [
    {
     "data": {
      "text/html": [
       "<div>\n",
       "<style scoped>\n",
       "    .dataframe tbody tr th:only-of-type {\n",
       "        vertical-align: middle;\n",
       "    }\n",
       "\n",
       "    .dataframe tbody tr th {\n",
       "        vertical-align: top;\n",
       "    }\n",
       "\n",
       "    .dataframe thead th {\n",
       "        text-align: right;\n",
       "    }\n",
       "</style>\n",
       "<table border=\"1\" class=\"dataframe\">\n",
       "  <thead>\n",
       "    <tr style=\"text-align: right;\">\n",
       "      <th></th>\n",
       "      <th>sample_ID</th>\n",
       "      <th>modeling_method</th>\n",
       "      <th>comm_method_name</th>\n",
       "      <th>hp_ID</th>\n",
       "      <th>hyperparameters</th>\n",
       "      <th>communities</th>\n",
       "    </tr>\n",
       "  </thead>\n",
       "  <tbody>\n",
       "    <tr>\n",
       "      <th>0</th>\n",
       "      <td>sample_0</td>\n",
       "      <td>normalized_counts</td>\n",
       "      <td>louvain</td>\n",
       "      <td>louvain_0</td>\n",
       "      <td>{'parameter1': 5, 'parameter2': 12}</td>\n",
       "      <td>{0: 0, 1: 1, 2: 1, 3: 2, 4: 0, 5: 0, 6: 5, 7: ...</td>\n",
       "    </tr>\n",
       "    <tr>\n",
       "      <th>1</th>\n",
       "      <td>sample_1</td>\n",
       "      <td>normalized_counts</td>\n",
       "      <td>louvain</td>\n",
       "      <td>louvain_0</td>\n",
       "      <td>{'parameter1': 5, 'parameter2': 12}</td>\n",
       "      <td>{0: 0, 1: 1, 2: 2, 3: 2, 4: 0, 5: 0, 6: 3, 7: ...</td>\n",
       "    </tr>\n",
       "    <tr>\n",
       "      <th>2</th>\n",
       "      <td>sample_2</td>\n",
       "      <td>normalized_counts</td>\n",
       "      <td>louvain</td>\n",
       "      <td>louvain_0</td>\n",
       "      <td>{'parameter1': 5, 'parameter2': 12}</td>\n",
       "      <td>{0: 0, 1: 1, 2: 2, 3: 2, 4: 0, 5: 0, 6: 3, 7: ...</td>\n",
       "    </tr>\n",
       "    <tr>\n",
       "      <th>3</th>\n",
       "      <td>sample_3</td>\n",
       "      <td>normalized_counts</td>\n",
       "      <td>louvain</td>\n",
       "      <td>louvain_0</td>\n",
       "      <td>{'parameter1': 5, 'parameter2': 12}</td>\n",
       "      <td>{0: 0, 1: 1, 2: 2, 3: 3, 4: 0, 5: 0, 6: 4, 7: ...</td>\n",
       "    </tr>\n",
       "    <tr>\n",
       "      <th>4</th>\n",
       "      <td>sample_4</td>\n",
       "      <td>normalized_counts</td>\n",
       "      <td>louvain</td>\n",
       "      <td>louvain_0</td>\n",
       "      <td>{'parameter1': 5, 'parameter2': 12}</td>\n",
       "      <td>{0: 0, 1: 1, 2: 2, 3: 1, 4: 0, 5: 0, 6: 3, 7: ...</td>\n",
       "    </tr>\n",
       "  </tbody>\n",
       "</table>\n",
       "</div>"
      ],
      "text/plain": [
       "  sample_ID    modeling_method comm_method_name      hp_ID  \\\n",
       "0  sample_0  normalized_counts          louvain  louvain_0   \n",
       "1  sample_1  normalized_counts          louvain  louvain_0   \n",
       "2  sample_2  normalized_counts          louvain  louvain_0   \n",
       "3  sample_3  normalized_counts          louvain  louvain_0   \n",
       "4  sample_4  normalized_counts          louvain  louvain_0   \n",
       "\n",
       "                       hyperparameters  \\\n",
       "0  {'parameter1': 5, 'parameter2': 12}   \n",
       "1  {'parameter1': 5, 'parameter2': 12}   \n",
       "2  {'parameter1': 5, 'parameter2': 12}   \n",
       "3  {'parameter1': 5, 'parameter2': 12}   \n",
       "4  {'parameter1': 5, 'parameter2': 12}   \n",
       "\n",
       "                                         communities  \n",
       "0  {0: 0, 1: 1, 2: 1, 3: 2, 4: 0, 5: 0, 6: 5, 7: ...  \n",
       "1  {0: 0, 1: 1, 2: 2, 3: 2, 4: 0, 5: 0, 6: 3, 7: ...  \n",
       "2  {0: 0, 1: 1, 2: 2, 3: 2, 4: 0, 5: 0, 6: 3, 7: ...  \n",
       "3  {0: 0, 1: 1, 2: 2, 3: 3, 4: 0, 5: 0, 6: 4, 7: ...  \n",
       "4  {0: 0, 1: 1, 2: 2, 3: 1, 4: 0, 5: 0, 6: 3, 7: ...  "
      ]
     },
     "execution_count": 7,
     "metadata": {},
     "output_type": "execute_result"
    }
   ],
   "source": [
    "import pandas as pd\n",
    "\n",
    "rows = []\n",
    "for sample_ID, modeling_methods in fw.results.items():\n",
    "    for modeling_method, comm_methods in modeling_methods.items():\n",
    "        for comm_method_name, hp_dict in comm_methods.items():\n",
    "            for hp_ID, result in hp_dict.items():\n",
    "                row = {\n",
    "                    'sample_ID': sample_ID,\n",
    "                    'modeling_method': modeling_method,\n",
    "                    'comm_method_name': comm_method_name,\n",
    "                    'hp_ID': hp_ID,\n",
    "                    **result  # assuming result is a dict\n",
    "                }\n",
    "                rows.append(row)\n",
    "\n",
    "df = pd.DataFrame(rows)\n",
    "df"
   ]
  }
 ],
 "metadata": {
  "kernelspec": {
   "display_name": "clusterizer",
   "language": "python",
   "name": "python3"
  },
  "language_info": {
   "codemirror_mode": {
    "name": "ipython",
    "version": 3
   },
   "file_extension": ".py",
   "mimetype": "text/x-python",
   "name": "python",
   "nbconvert_exporter": "python",
   "pygments_lexer": "ipython3",
   "version": "3.12.9"
  }
 },
 "nbformat": 4,
 "nbformat_minor": 5
}
